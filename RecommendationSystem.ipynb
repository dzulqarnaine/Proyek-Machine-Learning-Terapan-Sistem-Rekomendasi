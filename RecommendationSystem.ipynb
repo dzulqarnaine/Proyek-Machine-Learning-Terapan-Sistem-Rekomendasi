{
  "cells": [
    {
      "cell_type": "markdown",
      "id": "45c67dd0",
      "metadata": {
        "id": "45c67dd0"
      },
      "source": [
        "# **1. Import Library**"
      ]
    },
    {
      "cell_type": "markdown",
      "id": "3cd2723e",
      "metadata": {
        "id": "3cd2723e"
      },
      "source": [
        "Mengimport library yang dibutuhkan"
      ]
    },
    {
      "cell_type": "code",
      "execution_count": 67,
      "id": "97f74520",
      "metadata": {
        "id": "97f74520"
      },
      "outputs": [],
      "source": [
        "# 1. IMPORT LIBRARY\n",
        "import pandas as pd\n",
        "import numpy as np\n",
        "import tensorflow as tf\n",
        "from tensorflow import keras\n",
        "from tensorflow.keras import layers, Input, Model\n",
        "import matplotlib.pyplot as plt\n",
        "import seaborn as sns\n",
        "from sklearn.metrics import mean_squared_error, mean_absolute_error, r2_score\n",
        "from tensorflow.keras.callbacks import EarlyStopping, ReduceLROnPlateau"
      ]
    },
    {
      "cell_type": "markdown",
      "id": "f7528e3f",
      "metadata": {
        "id": "f7528e3f"
      },
      "source": [
        "# **2. Load Dataset**"
      ]
    },
    {
      "cell_type": "markdown",
      "id": "55b018a6",
      "metadata": {
        "id": "55b018a6"
      },
      "source": [
        "Membaca dataset."
      ]
    },
    {
      "cell_type": "code",
      "execution_count": 68,
      "id": "5665e57b",
      "metadata": {
        "id": "5665e57b"
      },
      "outputs": [],
      "source": [
        "# Muat kedua dataset yang relevan\n",
        "rating = pd.read_csv('rating.csv')\n",
        "anime = pd.read_csv('anime.csv')"
      ]
    },
    {
      "cell_type": "markdown",
      "id": "61c4bdb5",
      "metadata": {
        "id": "61c4bdb5"
      },
      "source": [
        "Menampilkan sample data rating"
      ]
    },
    {
      "cell_type": "code",
      "execution_count": 69,
      "id": "27a6665d",
      "metadata": {
        "colab": {
          "base_uri": "https://localhost:8080/",
          "height": 206
        },
        "id": "27a6665d",
        "outputId": "a3e62d11-1a1b-45b1-bfd8-d9866df476fc"
      },
      "outputs": [
        {
          "data": {
            "application/vnd.google.colaboratory.intrinsic+json": {
              "type": "dataframe",
              "variable_name": "rating"
            },
            "text/html": [
              "\n",
              "  <div id=\"df-52c43570-ddba-4bf5-b039-ed769c920640\" class=\"colab-df-container\">\n",
              "    <div>\n",
              "<style scoped>\n",
              "    .dataframe tbody tr th:only-of-type {\n",
              "        vertical-align: middle;\n",
              "    }\n",
              "\n",
              "    .dataframe tbody tr th {\n",
              "        vertical-align: top;\n",
              "    }\n",
              "\n",
              "    .dataframe thead th {\n",
              "        text-align: right;\n",
              "    }\n",
              "</style>\n",
              "<table border=\"1\" class=\"dataframe\">\n",
              "  <thead>\n",
              "    <tr style=\"text-align: right;\">\n",
              "      <th></th>\n",
              "      <th>user_id</th>\n",
              "      <th>anime_id</th>\n",
              "      <th>rating</th>\n",
              "    </tr>\n",
              "  </thead>\n",
              "  <tbody>\n",
              "    <tr>\n",
              "      <th>0</th>\n",
              "      <td>1</td>\n",
              "      <td>20</td>\n",
              "      <td>-1</td>\n",
              "    </tr>\n",
              "    <tr>\n",
              "      <th>1</th>\n",
              "      <td>1</td>\n",
              "      <td>24</td>\n",
              "      <td>-1</td>\n",
              "    </tr>\n",
              "    <tr>\n",
              "      <th>2</th>\n",
              "      <td>1</td>\n",
              "      <td>79</td>\n",
              "      <td>-1</td>\n",
              "    </tr>\n",
              "    <tr>\n",
              "      <th>3</th>\n",
              "      <td>1</td>\n",
              "      <td>226</td>\n",
              "      <td>-1</td>\n",
              "    </tr>\n",
              "    <tr>\n",
              "      <th>4</th>\n",
              "      <td>1</td>\n",
              "      <td>241</td>\n",
              "      <td>-1</td>\n",
              "    </tr>\n",
              "  </tbody>\n",
              "</table>\n",
              "</div>\n",
              "    <div class=\"colab-df-buttons\">\n",
              "\n",
              "  <div class=\"colab-df-container\">\n",
              "    <button class=\"colab-df-convert\" onclick=\"convertToInteractive('df-52c43570-ddba-4bf5-b039-ed769c920640')\"\n",
              "            title=\"Convert this dataframe to an interactive table.\"\n",
              "            style=\"display:none;\">\n",
              "\n",
              "  <svg xmlns=\"http://www.w3.org/2000/svg\" height=\"24px\" viewBox=\"0 -960 960 960\">\n",
              "    <path d=\"M120-120v-720h720v720H120Zm60-500h600v-160H180v160Zm220 220h160v-160H400v160Zm0 220h160v-160H400v160ZM180-400h160v-160H180v160Zm440 0h160v-160H620v160ZM180-180h160v-160H180v160Zm440 0h160v-160H620v160Z\"/>\n",
              "  </svg>\n",
              "    </button>\n",
              "\n",
              "  <style>\n",
              "    .colab-df-container {\n",
              "      display:flex;\n",
              "      gap: 12px;\n",
              "    }\n",
              "\n",
              "    .colab-df-convert {\n",
              "      background-color: #E8F0FE;\n",
              "      border: none;\n",
              "      border-radius: 50%;\n",
              "      cursor: pointer;\n",
              "      display: none;\n",
              "      fill: #1967D2;\n",
              "      height: 32px;\n",
              "      padding: 0 0 0 0;\n",
              "      width: 32px;\n",
              "    }\n",
              "\n",
              "    .colab-df-convert:hover {\n",
              "      background-color: #E2EBFA;\n",
              "      box-shadow: 0px 1px 2px rgba(60, 64, 67, 0.3), 0px 1px 3px 1px rgba(60, 64, 67, 0.15);\n",
              "      fill: #174EA6;\n",
              "    }\n",
              "\n",
              "    .colab-df-buttons div {\n",
              "      margin-bottom: 4px;\n",
              "    }\n",
              "\n",
              "    [theme=dark] .colab-df-convert {\n",
              "      background-color: #3B4455;\n",
              "      fill: #D2E3FC;\n",
              "    }\n",
              "\n",
              "    [theme=dark] .colab-df-convert:hover {\n",
              "      background-color: #434B5C;\n",
              "      box-shadow: 0px 1px 3px 1px rgba(0, 0, 0, 0.15);\n",
              "      filter: drop-shadow(0px 1px 2px rgba(0, 0, 0, 0.3));\n",
              "      fill: #FFFFFF;\n",
              "    }\n",
              "  </style>\n",
              "\n",
              "    <script>\n",
              "      const buttonEl =\n",
              "        document.querySelector('#df-52c43570-ddba-4bf5-b039-ed769c920640 button.colab-df-convert');\n",
              "      buttonEl.style.display =\n",
              "        google.colab.kernel.accessAllowed ? 'block' : 'none';\n",
              "\n",
              "      async function convertToInteractive(key) {\n",
              "        const element = document.querySelector('#df-52c43570-ddba-4bf5-b039-ed769c920640');\n",
              "        const dataTable =\n",
              "          await google.colab.kernel.invokeFunction('convertToInteractive',\n",
              "                                                    [key], {});\n",
              "        if (!dataTable) return;\n",
              "\n",
              "        const docLinkHtml = 'Like what you see? Visit the ' +\n",
              "          '<a target=\"_blank\" href=https://colab.research.google.com/notebooks/data_table.ipynb>data table notebook</a>'\n",
              "          + ' to learn more about interactive tables.';\n",
              "        element.innerHTML = '';\n",
              "        dataTable['output_type'] = 'display_data';\n",
              "        await google.colab.output.renderOutput(dataTable, element);\n",
              "        const docLink = document.createElement('div');\n",
              "        docLink.innerHTML = docLinkHtml;\n",
              "        element.appendChild(docLink);\n",
              "      }\n",
              "    </script>\n",
              "  </div>\n",
              "\n",
              "\n",
              "    <div id=\"df-62298c17-d5c4-45a6-9ca6-631e3ef9f199\">\n",
              "      <button class=\"colab-df-quickchart\" onclick=\"quickchart('df-62298c17-d5c4-45a6-9ca6-631e3ef9f199')\"\n",
              "                title=\"Suggest charts\"\n",
              "                style=\"display:none;\">\n",
              "\n",
              "<svg xmlns=\"http://www.w3.org/2000/svg\" height=\"24px\"viewBox=\"0 0 24 24\"\n",
              "     width=\"24px\">\n",
              "    <g>\n",
              "        <path d=\"M19 3H5c-1.1 0-2 .9-2 2v14c0 1.1.9 2 2 2h14c1.1 0 2-.9 2-2V5c0-1.1-.9-2-2-2zM9 17H7v-7h2v7zm4 0h-2V7h2v10zm4 0h-2v-4h2v4z\"/>\n",
              "    </g>\n",
              "</svg>\n",
              "      </button>\n",
              "\n",
              "<style>\n",
              "  .colab-df-quickchart {\n",
              "      --bg-color: #E8F0FE;\n",
              "      --fill-color: #1967D2;\n",
              "      --hover-bg-color: #E2EBFA;\n",
              "      --hover-fill-color: #174EA6;\n",
              "      --disabled-fill-color: #AAA;\n",
              "      --disabled-bg-color: #DDD;\n",
              "  }\n",
              "\n",
              "  [theme=dark] .colab-df-quickchart {\n",
              "      --bg-color: #3B4455;\n",
              "      --fill-color: #D2E3FC;\n",
              "      --hover-bg-color: #434B5C;\n",
              "      --hover-fill-color: #FFFFFF;\n",
              "      --disabled-bg-color: #3B4455;\n",
              "      --disabled-fill-color: #666;\n",
              "  }\n",
              "\n",
              "  .colab-df-quickchart {\n",
              "    background-color: var(--bg-color);\n",
              "    border: none;\n",
              "    border-radius: 50%;\n",
              "    cursor: pointer;\n",
              "    display: none;\n",
              "    fill: var(--fill-color);\n",
              "    height: 32px;\n",
              "    padding: 0;\n",
              "    width: 32px;\n",
              "  }\n",
              "\n",
              "  .colab-df-quickchart:hover {\n",
              "    background-color: var(--hover-bg-color);\n",
              "    box-shadow: 0 1px 2px rgba(60, 64, 67, 0.3), 0 1px 3px 1px rgba(60, 64, 67, 0.15);\n",
              "    fill: var(--button-hover-fill-color);\n",
              "  }\n",
              "\n",
              "  .colab-df-quickchart-complete:disabled,\n",
              "  .colab-df-quickchart-complete:disabled:hover {\n",
              "    background-color: var(--disabled-bg-color);\n",
              "    fill: var(--disabled-fill-color);\n",
              "    box-shadow: none;\n",
              "  }\n",
              "\n",
              "  .colab-df-spinner {\n",
              "    border: 2px solid var(--fill-color);\n",
              "    border-color: transparent;\n",
              "    border-bottom-color: var(--fill-color);\n",
              "    animation:\n",
              "      spin 1s steps(1) infinite;\n",
              "  }\n",
              "\n",
              "  @keyframes spin {\n",
              "    0% {\n",
              "      border-color: transparent;\n",
              "      border-bottom-color: var(--fill-color);\n",
              "      border-left-color: var(--fill-color);\n",
              "    }\n",
              "    20% {\n",
              "      border-color: transparent;\n",
              "      border-left-color: var(--fill-color);\n",
              "      border-top-color: var(--fill-color);\n",
              "    }\n",
              "    30% {\n",
              "      border-color: transparent;\n",
              "      border-left-color: var(--fill-color);\n",
              "      border-top-color: var(--fill-color);\n",
              "      border-right-color: var(--fill-color);\n",
              "    }\n",
              "    40% {\n",
              "      border-color: transparent;\n",
              "      border-right-color: var(--fill-color);\n",
              "      border-top-color: var(--fill-color);\n",
              "    }\n",
              "    60% {\n",
              "      border-color: transparent;\n",
              "      border-right-color: var(--fill-color);\n",
              "    }\n",
              "    80% {\n",
              "      border-color: transparent;\n",
              "      border-right-color: var(--fill-color);\n",
              "      border-bottom-color: var(--fill-color);\n",
              "    }\n",
              "    90% {\n",
              "      border-color: transparent;\n",
              "      border-bottom-color: var(--fill-color);\n",
              "    }\n",
              "  }\n",
              "</style>\n",
              "\n",
              "      <script>\n",
              "        async function quickchart(key) {\n",
              "          const quickchartButtonEl =\n",
              "            document.querySelector('#' + key + ' button');\n",
              "          quickchartButtonEl.disabled = true;  // To prevent multiple clicks.\n",
              "          quickchartButtonEl.classList.add('colab-df-spinner');\n",
              "          try {\n",
              "            const charts = await google.colab.kernel.invokeFunction(\n",
              "                'suggestCharts', [key], {});\n",
              "          } catch (error) {\n",
              "            console.error('Error during call to suggestCharts:', error);\n",
              "          }\n",
              "          quickchartButtonEl.classList.remove('colab-df-spinner');\n",
              "          quickchartButtonEl.classList.add('colab-df-quickchart-complete');\n",
              "        }\n",
              "        (() => {\n",
              "          let quickchartButtonEl =\n",
              "            document.querySelector('#df-62298c17-d5c4-45a6-9ca6-631e3ef9f199 button');\n",
              "          quickchartButtonEl.style.display =\n",
              "            google.colab.kernel.accessAllowed ? 'block' : 'none';\n",
              "        })();\n",
              "      </script>\n",
              "    </div>\n",
              "\n",
              "    </div>\n",
              "  </div>\n"
            ],
            "text/plain": [
              "   user_id  anime_id  rating\n",
              "0        1        20      -1\n",
              "1        1        24      -1\n",
              "2        1        79      -1\n",
              "3        1       226      -1\n",
              "4        1       241      -1"
            ]
          },
          "execution_count": 69,
          "metadata": {},
          "output_type": "execute_result"
        }
      ],
      "source": [
        "rating.head()"
      ]
    },
    {
      "cell_type": "markdown",
      "id": "b9975615",
      "metadata": {
        "id": "b9975615"
      },
      "source": [
        "# **3. Data Wrangling**"
      ]
    },
    {
      "cell_type": "markdown",
      "id": "240c60b9",
      "metadata": {
        "id": "240c60b9"
      },
      "source": [
        "Cek missing value"
      ]
    },
    {
      "cell_type": "code",
      "execution_count": 70,
      "id": "4754ff37",
      "metadata": {
        "colab": {
          "base_uri": "https://localhost:8080/",
          "height": 178
        },
        "id": "4754ff37",
        "outputId": "033cff1e-4a97-4de8-e82f-d56eb1093757"
      },
      "outputs": [
        {
          "data": {
            "text/html": [
              "<div>\n",
              "<style scoped>\n",
              "    .dataframe tbody tr th:only-of-type {\n",
              "        vertical-align: middle;\n",
              "    }\n",
              "\n",
              "    .dataframe tbody tr th {\n",
              "        vertical-align: top;\n",
              "    }\n",
              "\n",
              "    .dataframe thead th {\n",
              "        text-align: right;\n",
              "    }\n",
              "</style>\n",
              "<table border=\"1\" class=\"dataframe\">\n",
              "  <thead>\n",
              "    <tr style=\"text-align: right;\">\n",
              "      <th></th>\n",
              "      <th>0</th>\n",
              "    </tr>\n",
              "  </thead>\n",
              "  <tbody>\n",
              "    <tr>\n",
              "      <th>user_id</th>\n",
              "      <td>0</td>\n",
              "    </tr>\n",
              "    <tr>\n",
              "      <th>anime_id</th>\n",
              "      <td>0</td>\n",
              "    </tr>\n",
              "    <tr>\n",
              "      <th>rating</th>\n",
              "      <td>0</td>\n",
              "    </tr>\n",
              "  </tbody>\n",
              "</table>\n",
              "</div><br><label><b>dtype:</b> int64</label>"
            ],
            "text/plain": [
              "user_id     0\n",
              "anime_id    0\n",
              "rating      0\n",
              "dtype: int64"
            ]
          },
          "execution_count": 70,
          "metadata": {},
          "output_type": "execute_result"
        }
      ],
      "source": [
        "rating.isnull().sum()"
      ]
    },
    {
      "cell_type": "markdown",
      "id": "xPY3Nqxqw2gL",
      "metadata": {
        "id": "xPY3Nqxqw2gL"
      },
      "source": [
        "**Insight**:\n",
        "- Tidak ada missing value ditemukan pada dataset. Hal ini penting untuk memastikan data yang digunakan sudah lengkap dan siap diproses lebih lanjut.\n"
      ]
    },
    {
      "cell_type": "code",
      "execution_count": 71,
      "id": "w0ga5IZ3xB5P",
      "metadata": {
        "colab": {
          "base_uri": "https://localhost:8080/"
        },
        "id": "w0ga5IZ3xB5P",
        "outputId": "17bacd09-05de-45a5-d389-03f43b838750"
      },
      "outputs": [
        {
          "name": "stdout",
          "output_type": "stream",
          "text": [
            "1\n"
          ]
        }
      ],
      "source": [
        "#Cek Data Dupliat\n",
        "duplikat = rating.duplicated().sum()\n",
        "print(duplikat)"
      ]
    },
    {
      "cell_type": "markdown",
      "id": "301vJ_b0xZnp",
      "metadata": {
        "id": "301vJ_b0xZnp"
      },
      "source": [
        "**Insight**\n",
        "- Terdapat 1 duplikat ditemukan pada dataset. Data duplikat ini akan dihapus pada tahap Prepraration\n"
      ]
    },
    {
      "cell_type": "code",
      "execution_count": 72,
      "id": "038fabe5",
      "metadata": {
        "colab": {
          "base_uri": "https://localhost:8080/",
          "height": 671
        },
        "id": "038fabe5",
        "outputId": "bc59c2ba-7613-499f-e8dc-b17b0c0004bd"
      },
      "outputs": [
        {
          "name": "stderr",
          "output_type": "stream",
          "text": [
            "<ipython-input-72-289680df3178>:3: FutureWarning: \n",
            "\n",
            "Passing `palette` without assigning `hue` is deprecated and will be removed in v0.14.0. Assign the `x` variable to `hue` and set `legend=False` for the same effect.\n",
            "\n",
            "  sns.countplot(x='rating', data=rating, palette='viridis')\n"
          ]
        },
        {
          "data": {
            "image/png": "[encoded data removed]",
            "text/plain": [
              "<Figure size 1000x600 with 1 Axes>"
            ]
          },
          "metadata": {},
          "output_type": "display_data"
        }
      ],
      "source": [
        "#distribusi data pada fitur rating\n",
        "plt.figure(figsize=(10, 6))\n",
        "sns.countplot(x='rating', data=rating, palette='viridis')\n",
        "plt.title('Distribusi Rating')\n",
        "plt.xlabel('Rating')\n",
        "plt.ylabel('Frekuensi')\n",
        "plt.show()"
      ]
    },
    {
      "cell_type": "markdown",
      "id": "d07a8472",
      "metadata": {},
      "source": [
        "**Insight**\n",
        "- Visualisasi distribusi data rating ini menyajikan gambaran komprehensif mengenai perilaku pengguna, yang terbagi menjadi dua pola utama. Pertama, lonjakan frekuensi yang sangat signifikan pada rating -1 menunjukkan bahwa sebagian besar interaksi adalah catatan 'telah ditonton' tanpa disertai skor numerik. Ini merupakan sinyal ketertarikan yang sangat berharga meskipun tanpa adanya penilaian angka. Kedua, untuk data rating yang memiliki skor (skala 1-10), distribusinya sangat condong ke kiri, dengan mayoritas pengguna memberikan rating tinggi seperti 7, 8, 9, dan 10. Hal ini menandakan adanya bias positif yang kuat, di mana pengguna cenderung hanya memberikan penilaian pada anime yang mereka nikmati. Distribusi yang unik ini memiliki implikasi penting bagi sistem rekomendasi yang akan dibangun: model tidak hanya harus mampu menangani bias penilaian positif ini, tetapi juga harus bisa memanfaatkan data dari pengguna yang menandai anime sebagai 'telah ditonton' (rating -1) untuk menghasilkan rekomendasi yang lebih akurat dan personal."
      ]
    },
    {
      "cell_type": "code",
      "execution_count": 73,
      "id": "04e2c6f7",
      "metadata": {
        "colab": {
          "base_uri": "https://localhost:8080/",
          "height": 564
        },
        "id": "04e2c6f7",
        "outputId": "e8bd4f84-6d80-4f74-e571-08cc0da8331e"
      },
      "outputs": [
        {
          "data": {
            "image/png": "[encoded data removed]",
            "text/plain": [
              "<Figure size 1000x600 with 1 Axes>"
            ]
          },
          "metadata": {},
          "output_type": "display_data"
        }
      ],
      "source": [
        "#histogram dari fitur rating\n",
        "plt.figure(figsize=(10, 6))\n",
        "plt.hist(rating['rating'], bins=20, color='skyblue', edgecolor='black')\n",
        "plt.title('Histogram Rating')\n",
        "plt.xlabel('Rating')\n",
        "plt.ylabel('Frekuensi')\n",
        "plt.show()"
      ]
    },
    {
      "cell_type": "markdown",
      "id": "24c07c9f",
      "metadata": {},
      "source": [
        "**Insight**\n",
        "- Histogram di atas menunjukkan distribusi rating pengguna yang memiliki dua pola yang sangat jelas.\n",
        "Pertama, terdapat lonjakan frekuensi yang sangat tinggi pada rating -1 (ditampilkan di dekat angka 0). Ini menandakan bahwa sebagian besar data adalah catatan anime yang telah ditonton oleh pengguna tetapi tidak diberi skor (umpan balik implisit).\n",
        "Kedua, untuk rating sebenarnya (skala 1-10), distribusi sangat condong ke arah nilai tinggi (7, 8, 9, dan 10). Hal ini menunjukkan bahwa pengguna cenderung memberikan ulasan positif pada anime yang mereka putuskan untuk dinilai, sementara rating rendah sangat jarang diberikan."
      ]
    },
    {
      "cell_type": "markdown",
      "id": "a86b87de",
      "metadata": {
        "id": "a86b87de"
      },
      "source": [
        "Memvisualisasi fitur rating dengan boxplot untuk melihat korelasi atau insight lain."
      ]
    },
    {
      "cell_type": "code",
      "execution_count": 74,
      "id": "61dbcc0b",
      "metadata": {
        "colab": {
          "base_uri": "https://localhost:8080/",
          "height": 671
        },
        "id": "61dbcc0b",
        "outputId": "a286e855-3712-4b5a-d350-75eedcb918c8"
      },
      "outputs": [
        {
          "name": "stderr",
          "output_type": "stream",
          "text": [
            "<ipython-input-74-bdaad32d1186>:2: FutureWarning: \n",
            "\n",
            "Passing `palette` without assigning `hue` is deprecated and will be removed in v0.14.0. Assign the `y` variable to `hue` and set `legend=False` for the same effect.\n",
            "\n",
            "  sns.boxplot(x='rating', data=rating, palette='viridis')\n"
          ]
        },
        {
          "data": {
            "image/png": "[encoded data removed]",
            "text/plain": [
              "<Figure size 1000x600 with 1 Axes>"
            ]
          },
          "metadata": {},
          "output_type": "display_data"
        }
      ],
      "source": [
        "plt.figure(figsize=(10,6))\n",
        "sns.boxplot(x='rating', data=rating, palette='viridis')\n",
        "plt.title('Boxplot Rating')\n",
        "plt.xlabel('Rating')\n",
        "plt.show()"
      ]
    },
    {
      "cell_type": "markdown",
      "id": "e147ac41",
      "metadata": {},
      "source": [
        "**Insight**\n",
        "- Kotak Utama (Interquartile Range - IQR)\n",
        "    Bagian kotak (box) berwarna hijau kebiruan membentang dari rating 6 (kuartil pertama, Q1) hingga rating 9 (kuartil ketiga, Q3). Ini adalah informasi kunci yang berarti 50% dari seluruh rating yang diberikan oleh pengguna berada dalam rentang ini. Ini bisa dianggap sebagai rentang penilaian yang paling \"tipikal\" atau umum.\n",
        "- Garis Median (Nilai Tengah)\n",
        "    Garis vertikal di dalam kotak berada pada rating 7. Ini adalah median atau nilai tengah dari seluruh data rating. Fakta bahwa nilai tengahnya adalah 7 menegaskan kembali bahwa distribusi data sangat condong ke arah nilai yang tinggi.\n",
        "- Whisker (Jangkauan Data Normal)\n",
        "    - Garis horizontal (whisker) di sebelah kanan membentang hingga rating 10, menunjukkan bahwa ini adalah nilai maksimum yang masih berada dalam jangkauan data yang dianggap normal.\n",
        "    - Whisker di sebelah kiri berhenti di sekitar rating 2, menandakan ini adalah batas bawah dari data normal sebelum suatu nilai dianggap sebagai outlier.\n",
        "- Outlier (Nilai Ekstrem)\n",
        "    Titik-titik individual yang berada di sebelah kiri whisker (secara spesifik pada rating -1 dan 1) diidentifikasi sebagai outlier. Ini adalah nilai-nilai yang secara statistik sangat jarang terjadi dan berada jauh di luar jangkauan sebagian besar data rating. Ini mengkonfirmasi bahwa rating sangat rendah dan status \"telah ditonton\" tanpa skor adalah kejadian yang tidak biasa dibandingkan dengan distribusi utama rating 6-10."
      ]
    },
    {
      "cell_type": "markdown",
      "id": "647VEYKswo3H",
      "metadata": {
        "id": "647VEYKswo3H"
      },
      "source": [
        "**Insight**\n",
        "-"
      ]
    },
    {
      "cell_type": "markdown",
      "id": "c00b79b6",
      "metadata": {
        "id": "c00b79b6"
      },
      "source": [
        "# **4. Data Preparation**"
      ]
    },
    {
      "cell_type": "code",
      "execution_count": 76,
      "id": "47ec5f14",
      "metadata": {
        "colab": {
          "base_uri": "https://localhost:8080/"
        },
        "id": "47ec5f14",
        "outputId": "cfcf8f66-8385-40e1-b790-e6904b03b71a"
      },
      "outputs": [
        {
          "name": "stdout",
          "output_type": "stream",
          "text": [
            "--- Proses Optimasi Data ---\n",
            "Jumlah baris data rating asli: 7813737\n"
          ]
        }
      ],
      "source": [
        "print(\"--- Proses Optimasi Data ---\")\n",
        "print(f\"Jumlah baris data rating asli: {len(rating)}\")"
      ]
    },
    {
      "cell_type": "code",
      "execution_count": 77,
      "id": "xo6W2AQRx6sP",
      "metadata": {
        "id": "xo6W2AQRx6sP"
      },
      "outputs": [],
      "source": [
        "#Menghapus data duplikat\n",
        "rating = rating.drop_duplicates()\n"
      ]
    },
    {
      "cell_type": "code",
      "execution_count": 78,
      "id": "1c9b765a",
      "metadata": {
        "colab": {
          "base_uri": "https://localhost:8080/"
        },
        "id": "1c9b765a",
        "outputId": "5cdfe198-6ab4-4c0d-c37e-8ffd589d6bed"
      },
      "outputs": [
        {
          "name": "stdout",
          "output_type": "stream",
          "text": [
            "Jumlah baris setelah menghapus rating -1: 6337240\n"
          ]
        }
      ],
      "source": [
        "#Hapus data rating -1 (fokus pada rating eksplisit)\n",
        "rating_df = rating[rating['rating'] != -1]\n",
        "print(f\"Jumlah baris setelah menghapus rating -1: {len(rating_df)}\")"
      ]
    },
    {
      "cell_type": "code",
      "execution_count": 79,
      "id": "-StDKuKLhc8V",
      "metadata": {
        "id": "-StDKuKLhc8V"
      },
      "outputs": [],
      "source": [
        "#Hitung jumlah rating per pengguna dan per anime\n",
        "user_counts = rating_df['user_id'].value_counts()\n",
        "anime_counts = rating_df['anime_id'].value_counts()"
      ]
    },
    {
      "cell_type": "code",
      "execution_count": 80,
      "id": "UgpMPXe5hedU",
      "metadata": {
        "id": "UgpMPXe5hedU"
      },
      "outputs": [],
      "source": [
        "#Filter data berdasarkan jumlah rating\n",
        "MIN_USER_RATINGS = 50\n",
        "MIN_ANIME_RATINGS = 50"
      ]
    },
    {
      "cell_type": "code",
      "execution_count": 81,
      "id": "d0J9QKlvhsAW",
      "metadata": {
        "colab": {
          "base_uri": "https://localhost:8080/"
        },
        "id": "d0J9QKlvhsAW",
        "outputId": "a135ab30-1351-42da-fb9e-077465ad8cca"
      },
      "outputs": [
        {
          "name": "stdout",
          "output_type": "stream",
          "text": [
            "Jumlah baris setelah filtering (pengguna > 50 rating, anime > 50 rating): 5633890\n",
            "----------------------------\n",
            "\n"
          ]
        }
      ],
      "source": [
        "# Filter pengguna dan anime yang tidak memenuhi ambang batas\n",
        "active_users = user_counts[user_counts >= MIN_USER_RATINGS].index\n",
        "popular_anime = anime_counts[anime_counts >= MIN_ANIME_RATINGS].index\n",
        "\n",
        "rating_filtered = rating_df[\n",
        "    rating_df['user_id'].isin(active_users) &\n",
        "    rating_df['anime_id'].isin(popular_anime)\n",
        "]\n",
        "print(f\"Jumlah baris setelah filtering (pengguna > {MIN_USER_RATINGS} rating, anime > {MIN_ANIME_RATINGS} rating): {len(rating_filtered)}\")\n",
        "print(\"----------------------------\\n\")"
      ]
    },
    {
      "cell_type": "code",
      "execution_count": 27,
      "id": "4nLfRpMbhwLF",
      "metadata": {
        "id": "4nLfRpMbhwLF"
      },
      "outputs": [],
      "source": [
        "# Buat pemetaan (encoding) untuk user dan anime dari data yang sudah difilter\n",
        "user_ids = rating_filtered['user_id'].unique()\n",
        "anime_ids = rating_filtered['anime_id'].unique()"
      ]
    },
    {
      "cell_type": "code",
      "execution_count": 28,
      "id": "9c4SUtzmhwv6",
      "metadata": {
        "id": "9c4SUtzmhwv6"
      },
      "outputs": [],
      "source": [
        "user_to_index = {user_id: i for i, user_id in enumerate(user_ids)}\n",
        "index_to_user = {i: user_id for i, user_id in enumerate(user_ids)}\n",
        "\n",
        "anime_to_index = {anime_id: i for i, anime_id in enumerate(anime_ids)}\n",
        "index_to_anime = {i: anime_id for i, anime_id in enumerate(anime_ids)}"
      ]
    },
    {
      "cell_type": "code",
      "execution_count": 59,
      "id": "EyjHsZiohyUz",
      "metadata": {
        "id": "EyjHsZiohyUz"
      },
      "outputs": [],
      "source": [
        "# Terapkan mapping ke dataframe\n",
        "rating_filtered = rating_filtered.copy()\n",
        "rating_filtered['user'] = rating_filtered['user_id'].map(user_to_index)\n",
        "rating_filtered['anime'] = rating_filtered['anime_id'].map(anime_to_index)"
      ]
    },
    {
      "cell_type": "code",
      "execution_count": 30,
      "id": "OYV6xiBnhySh",
      "metadata": {
        "colab": {
          "base_uri": "https://localhost:8080/"
        },
        "id": "OYV6xiBnhySh",
        "outputId": "92154c97-fa98-4532-9e57-1341b89c2000"
      },
      "outputs": [
        {
          "name": "stderr",
          "output_type": "stream",
          "text": [
            "<ipython-input-30-d94469fdecd2>:4: SettingWithCopyWarning: \n",
            "A value is trying to be set on a copy of a slice from a DataFrame.\n",
            "Try using .loc[row_indexer,col_indexer] = value instead\n",
            "\n",
            "See the caveats in the documentation: https://pandas.pydata.org/pandas-docs/stable/user_guide/indexing.html#returning-a-view-versus-a-copy\n",
            "  rating_filtered['rating_norm'] = rating_filtered['rating'].apply(lambda x: (x - min_rating) / (max_rating - min_rating))\n"
          ]
        }
      ],
      "source": [
        "# Normalisasi rating\n",
        "min_rating = rating_filtered['rating'].min()\n",
        "max_rating = rating_filtered['rating'].max()\n",
        "rating_filtered['rating_norm'] = rating_filtered['rating'].apply(lambda x: (x - min_rating) / (max_rating - min_rating))"
      ]
    },
    {
      "cell_type": "code",
      "execution_count": 31,
      "id": "Yycr7xFUhyQC",
      "metadata": {
        "id": "Yycr7xFUhyQC"
      },
      "outputs": [],
      "source": [
        "# Siapkan data input (x) dan target (y)\n",
        "x = rating_filtered[['user', 'anime']].values\n",
        "y = rating_filtered['rating_norm'].values\n"
      ]
    },
    {
      "cell_type": "markdown",
      "id": "4311946a",
      "metadata": {
        "id": "4311946a"
      },
      "source": [
        "# **5. Data Splitting**"
      ]
    },
    {
      "cell_type": "code",
      "execution_count": 32,
      "id": "10536cc7",
      "metadata": {
        "id": "10536cc7"
      },
      "outputs": [],
      "source": [
        "# Acak data\n",
        "np.random.seed(42)\n",
        "shuffled_indices = np.random.permutation(len(rating_filtered))\n",
        "x_shuffled = x[shuffled_indices]\n",
        "y_shuffled = y[shuffled_indices]"
      ]
    },
    {
      "cell_type": "code",
      "execution_count": 33,
      "id": "8d3e85ec",
      "metadata": {
        "colab": {
          "base_uri": "https://localhost:8080/"
        },
        "id": "8d3e85ec",
        "outputId": "77992907-e369-4b14-f76d-e112412db88f"
      },
      "outputs": [
        {
          "name": "stdout",
          "output_type": "stream",
          "text": [
            "Jumlah data training: 4507112\n",
            "Jumlah data validasi: 1126779\n"
          ]
        }
      ],
      "source": [
        "# Bagi data menjadi 80% training dan 20% validasi\n",
        "train_size = int(0.8 * len(x_shuffled))\n",
        "x_train, x_val = x_shuffled[:train_size], x_shuffled[train_size:]\n",
        "y_train, y_val = y_shuffled[:train_size], y_shuffled[train_size:]\n",
        "\n",
        "print(f\"Jumlah data training: {len(x_train)}\")\n",
        "print(f\"Jumlah data validasi: {len(x_val)}\")"
      ]
    },
    {
      "cell_type": "markdown",
      "id": "83f05106",
      "metadata": {
        "id": "83f05106"
      },
      "source": [
        "# **6. Model Building**"
      ]
    },
    {
      "cell_type": "markdown",
      "id": "50059ae8",
      "metadata": {
        "id": "50059ae8"
      },
      "source": [
        "## 6.1. RecommenderNet"
      ]
    },
    {
      "cell_type": "markdown",
      "id": "aaee21ef",
      "metadata": {
        "id": "aaee21ef"
      },
      "source": [
        "Melakukan model building dengan RecommenderNet dan Mengkompilasi model dengan Binary Crossentropy dan menggunakan optimizer Adam serta metric RMSE."
      ]
    },
    {
      "cell_type": "code",
      "execution_count": null,
      "id": "JTJ-3QfaqkS8",
      "metadata": {
        "id": "JTJ-3QfaqkS8"
      },
      "outputs": [],
      "source": [
        "# Variabel yang akan digunakan oleh kedua model\n",
        "num_users = len(user_to_index)\n",
        "num_animes = len(anime_to_index)\n",
        "EMBEDDING_SIZE = 32"
      ]
    },
    {
      "cell_type": "code",
      "execution_count": 34,
      "id": "661c02ca",
      "metadata": {
        "colab": {
          "base_uri": "https://localhost:8080/"
        },
        "id": "661c02ca",
        "outputId": "6dc4bae3-aa0e-4de6-a843-07bb3eba6b2c"
      },
      "outputs": [
        {
          "name": "stdout",
          "output_type": "stream",
          "text": [
            "--- Membangun Model 1: RecommenderNet ---\n",
            "Model RecommenderNet berhasil dibuat dan dikompilasi.\n"
          ]
        }
      ],
      "source": [
        "# --- 6.1. Model RecommenderNet ---\n",
        "print(\"--- Membangun Model 1: RecommenderNet ---\")\n",
        "\n",
        "# Definisi kelas\n",
        "class RecommenderNet(tf.keras.Model):\n",
        "    def __init__(self, num_users, num_animes, embedding_size, **kwargs):\n",
        "        super(RecommenderNet, self).__init__(**kwargs)\n",
        "        self.num_users = num_users\n",
        "        self.num_animes = num_animes\n",
        "        self.embedding_size = embedding_size\n",
        "        self.user_embedding = layers.Embedding(num_users, embedding_size, embeddings_initializer='he_normal', embeddings_regularizer=keras.regularizers.l2(1e-6))\n",
        "        self.user_bias = layers.Embedding(num_users, 1)\n",
        "        self.anime_embedding = layers.Embedding(num_animes, embedding_size, embeddings_initializer='he_normal', embeddings_regularizer=keras.regularizers.l2(1e-6))\n",
        "        self.anime_bias = layers.Embedding(num_animes, 1)\n",
        "\n",
        "    def call(self, inputs):\n",
        "        user_vector = self.user_embedding(inputs[:, 0])\n",
        "        user_bias = self.user_bias(inputs[:, 0])\n",
        "        anime_vector = self.anime_embedding(inputs[:, 1])\n",
        "        anime_bias = self.anime_bias(inputs[:, 1])\n",
        "        dot_user_anime = tf.reduce_sum(user_vector * anime_vector, axis=1, keepdims=True)\n",
        "        x = dot_user_anime + user_bias + anime_bias\n",
        "        return tf.nn.sigmoid(x)\n",
        "\n",
        "# Instansiasi dan kompilasi model RecommenderNet\n",
        "recommender_net_model = RecommenderNet(num_users, num_animes, EMBEDDING_SIZE)\n",
        "recommender_net_model.compile(\n",
        "    loss='mean_squared_error',\n",
        "    optimizer=tf.keras.optimizers.Adam(learning_rate=0.001),\n",
        "    metrics=[tf.keras.metrics.RootMeanSquaredError()]\n",
        ")\n",
        "print(\"Model RecommenderNet berhasil dibuat dan dikompilasi.\")"
      ]
    },
    {
      "cell_type": "markdown",
      "id": "49ec089f",
      "metadata": {
        "id": "49ec089f"
      },
      "source": [
        "## 6.2. NeuMF"
      ]
    },
    {
      "cell_type": "code",
      "execution_count": 36,
      "id": "3fbe994a",
      "metadata": {
        "colab": {
          "base_uri": "https://localhost:8080/"
        },
        "id": "3fbe994a",
        "outputId": "62a56521-a8c9-422c-fd1b-fc035ae1be54"
      },
      "outputs": [
        {
          "name": "stdout",
          "output_type": "stream",
          "text": [
            "\n",
            "--- Membangun Model 2: NeuMF ---\n",
            "Model NeuMF berhasil dibuat dan dikompilasi.\n"
          ]
        }
      ],
      "source": [
        "# --- 6.2. Model NeuMF ---\n",
        "print(\"\\n--- Membangun Model 2: NeuMF ---\")\n",
        "\n",
        "# Definisi fungsi\n",
        "def get_NeuMF_model(num_users, num_items, mf_dim=8, mlp_layers=[64,32,16,8], dropout=0.0):\n",
        "    user_input = Input(shape=(1,), name=\"user_input\")\n",
        "    item_input = Input(shape=(1,), name=\"item_input\")\n",
        "    # MF part\n",
        "    mf_user_embedding = layers.Embedding(num_users, mf_dim, name=\"mf_user_embedding\")(user_input)\n",
        "    mf_item_embedding = layers.Embedding(num_items, mf_dim, name=\"mf_item_embedding\")(item_input)\n",
        "    mf_vector = layers.multiply([layers.Flatten()(mf_user_embedding), layers.Flatten()(mf_item_embedding)])\n",
        "    # MLP part\n",
        "    mlp_embedding_dim = mlp_layers[0] // 2\n",
        "    mlp_user_embedding = layers.Embedding(num_users, mlp_embedding_dim, name=\"mlp_user_embedding\")(user_input)\n",
        "    mlp_item_embedding = layers.Embedding(num_items, mlp_embedding_dim, name=\"mlp_item_embedding\")(item_input)\n",
        "    mlp_vector = layers.concatenate([layers.Flatten()(mlp_user_embedding), layers.Flatten()(mlp_item_embedding)])\n",
        "    for idx, units in enumerate(mlp_layers[1:]):\n",
        "        mlp_vector = layers.Dense(units, activation='relu', name=f\"mlp_dense_{idx}\")(mlp_vector)\n",
        "        if dropout > 0:\n",
        "            mlp_vector = layers.Dropout(dropout)(mlp_vector)\n",
        "    # Concatenate\n",
        "    neumf_vector = layers.concatenate([mf_vector, mlp_vector])\n",
        "    prediction = layers.Dense(1, activation=\"sigmoid\", name=\"prediction\")(neumf_vector)\n",
        "    model = Model(inputs=[user_input, item_input], outputs=prediction)\n",
        "    return model\n",
        "\n",
        "# Instansiasi dan kompilasi model NeuMF\n",
        "neuMF_model = get_NeuMF_model(num_users, num_animes)\n",
        "neuMF_model.compile(\n",
        "    loss='mean_squared_error',\n",
        "    optimizer=tf.keras.optimizers.Adam(learning_rate=0.001),\n",
        "    metrics=[tf.keras.metrics.RootMeanSquaredError()]\n",
        ")\n",
        "print(\"Model NeuMF berhasil dibuat dan dikompilasi.\")"
      ]
    },
    {
      "cell_type": "markdown",
      "id": "dc842a6f",
      "metadata": {
        "id": "dc842a6f"
      },
      "source": [
        "# **7. Model Training**"
      ]
    },
    {
      "cell_type": "markdown",
      "id": "9217f6f4",
      "metadata": {
        "id": "9217f6f4"
      },
      "source": [
        "Menerapkan Callbacks early stoping untuk menghentikan model ketika val_loss tidak berkurang selama 3 epoch dan merestore kembali weight yang terbaik."
      ]
    },
    {
      "cell_type": "code",
      "execution_count": 37,
      "id": "563642b1",
      "metadata": {
        "id": "563642b1"
      },
      "outputs": [],
      "source": [
        "# Definisikan hyperparameter dan callbacks untuk training\n",
        "BATCH_SIZE = 256 # Batch size yang lebih besar untuk training lebih cepat\n",
        "EPOCHS = 20      # Jumlah epoch maksimal (bisa berhenti lebih awal karena EarlyStopping)\n",
        "\n",
        "callbacks = [\n",
        "    EarlyStopping(\n",
        "        monitor='val_loss',\n",
        "        patience=3,\n",
        "        restore_best_weights=True,\n",
        "        verbose=1\n",
        "    ),\n",
        "    ReduceLROnPlateau(\n",
        "        monitor='val_loss',\n",
        "        factor=0.5, # Kurangi learning rate sebesar 50%\n",
        "        patience=2,\n",
        "        min_lr=1e-6,\n",
        "        verbose=1\n",
        "    )\n",
        "]"
      ]
    },
    {
      "cell_type": "markdown",
      "id": "7381efd1",
      "metadata": {
        "id": "7381efd1"
      },
      "source": [
        "## 7.1. RecommenderNet"
      ]
    },
    {
      "cell_type": "code",
      "execution_count": 38,
      "id": "92cbb090",
      "metadata": {
        "colab": {
          "base_uri": "https://localhost:8080/"
        },
        "id": "92cbb090",
        "outputId": "9259efdf-3c77-483a-9022-12fbb62e7f59"
      },
      "outputs": [
        {
          "name": "stdout",
          "output_type": "stream",
          "text": [
            "\n",
            "--- Memulai Pelatihan Model 1: RecommenderNet ---\n",
            "Epoch 1/20\n",
            "\u001b[1m17606/17606\u001b[0m \u001b[32m━━━━━━━━━━━━━━━━━━━━\u001b[0m\u001b[37m\u001b[0m \u001b[1m60s\u001b[0m 3ms/step - loss: 0.0376 - root_mean_squared_error: 0.1825 - val_loss: 0.0185 - val_root_mean_squared_error: 0.1347 - learning_rate: 0.0010\n",
            "Epoch 2/20\n",
            "\u001b[1m17606/17606\u001b[0m \u001b[32m━━━━━━━━━━━━━━━━━━━━\u001b[0m\u001b[37m\u001b[0m \u001b[1m52s\u001b[0m 3ms/step - loss: 0.0179 - root_mean_squared_error: 0.1332 - val_loss: 0.0174 - val_root_mean_squared_error: 0.1316 - learning_rate: 0.0010\n",
            "Epoch 3/20\n",
            "\u001b[1m17606/17606\u001b[0m \u001b[32m━━━━━━━━━━━━━━━━━━━━\u001b[0m\u001b[37m\u001b[0m \u001b[1m54s\u001b[0m 3ms/step - loss: 0.0172 - root_mean_squared_error: 0.1310 - val_loss: 0.0172 - val_root_mean_squared_error: 0.1312 - learning_rate: 0.0010\n",
            "Epoch 4/20\n",
            "\u001b[1m17606/17606\u001b[0m \u001b[32m━━━━━━━━━━━━━━━━━━━━\u001b[0m\u001b[37m\u001b[0m \u001b[1m80s\u001b[0m 3ms/step - loss: 0.0171 - root_mean_squared_error: 0.1308 - val_loss: 0.0172 - val_root_mean_squared_error: 0.1312 - learning_rate: 0.0010\n",
            "Epoch 5/20\n",
            "\u001b[1m17598/17606\u001b[0m \u001b[32m━━━━━━━━━━━━━━━━━━━\u001b[0m\u001b[37m━\u001b[0m \u001b[1m0s\u001b[0m 2ms/step - loss: 0.0171 - root_mean_squared_error: 0.1307\n",
            "Epoch 5: ReduceLROnPlateau reducing learning rate to 0.0005000000237487257.\n",
            "\u001b[1m17606/17606\u001b[0m \u001b[32m━━━━━━━━━━━━━━━━━━━━\u001b[0m\u001b[37m\u001b[0m \u001b[1m51s\u001b[0m 3ms/step - loss: 0.0171 - root_mean_squared_error: 0.1307 - val_loss: 0.0172 - val_root_mean_squared_error: 0.1312 - learning_rate: 0.0010\n",
            "Epoch 6/20\n",
            "\u001b[1m17606/17606\u001b[0m \u001b[32m━━━━━━━━━━━━━━━━━━━━\u001b[0m\u001b[37m\u001b[0m \u001b[1m82s\u001b[0m 3ms/step - loss: 0.0170 - root_mean_squared_error: 0.1303 - val_loss: 0.0172 - val_root_mean_squared_error: 0.1310 - learning_rate: 5.0000e-04\n",
            "Epoch 7/20\n",
            "\u001b[1m17601/17606\u001b[0m \u001b[32m━━━━━━━━━━━━━━━━━━━\u001b[0m\u001b[37m━\u001b[0m \u001b[1m0s\u001b[0m 2ms/step - loss: 0.0170 - root_mean_squared_error: 0.1303\n",
            "Epoch 7: ReduceLROnPlateau reducing learning rate to 0.0002500000118743628.\n",
            "\u001b[1m17606/17606\u001b[0m \u001b[32m━━━━━━━━━━━━━━━━━━━━\u001b[0m\u001b[37m\u001b[0m \u001b[1m83s\u001b[0m 3ms/step - loss: 0.0170 - root_mean_squared_error: 0.1303 - val_loss: 0.0172 - val_root_mean_squared_error: 0.1310 - learning_rate: 5.0000e-04\n",
            "Epoch 8/20\n",
            "\u001b[1m17606/17606\u001b[0m \u001b[32m━━━━━━━━━━━━━━━━━━━━\u001b[0m\u001b[37m\u001b[0m \u001b[1m52s\u001b[0m 3ms/step - loss: 0.0170 - root_mean_squared_error: 0.1302 - val_loss: 0.0172 - val_root_mean_squared_error: 0.1310 - learning_rate: 2.5000e-04\n",
            "Epoch 9/20\n",
            "\u001b[1m17585/17606\u001b[0m \u001b[32m━━━━━━━━━━━━━━━━━━━\u001b[0m\u001b[37m━\u001b[0m \u001b[1m0s\u001b[0m 2ms/step - loss: 0.0170 - root_mean_squared_error: 0.1302\n",
            "Epoch 9: ReduceLROnPlateau reducing learning rate to 0.0001250000059371814.\n",
            "\u001b[1m17606/17606\u001b[0m \u001b[32m━━━━━━━━━━━━━━━━━━━━\u001b[0m\u001b[37m\u001b[0m \u001b[1m52s\u001b[0m 3ms/step - loss: 0.0170 - root_mean_squared_error: 0.1302 - val_loss: 0.0172 - val_root_mean_squared_error: 0.1310 - learning_rate: 2.5000e-04\n",
            "Epoch 10/20\n",
            "\u001b[1m17606/17606\u001b[0m \u001b[32m━━━━━━━━━━━━━━━━━━━━\u001b[0m\u001b[37m\u001b[0m \u001b[1m52s\u001b[0m 3ms/step - loss: 0.0170 - root_mean_squared_error: 0.1302 - val_loss: 0.0172 - val_root_mean_squared_error: 0.1310 - learning_rate: 1.2500e-04\n",
            "Epoch 11/20\n",
            "\u001b[1m17596/17606\u001b[0m \u001b[32m━━━━━━━━━━━━━━━━━━━\u001b[0m\u001b[37m━\u001b[0m \u001b[1m0s\u001b[0m 2ms/step - loss: 0.0169 - root_mean_squared_error: 0.1301\n",
            "Epoch 11: ReduceLROnPlateau reducing learning rate to 6.25000029685907e-05.\n",
            "\u001b[1m17606/17606\u001b[0m \u001b[32m━━━━━━━━━━━━━━━━━━━━\u001b[0m\u001b[37m\u001b[0m \u001b[1m52s\u001b[0m 3ms/step - loss: 0.0169 - root_mean_squared_error: 0.1301 - val_loss: 0.0172 - val_root_mean_squared_error: 0.1310 - learning_rate: 1.2500e-04\n",
            "Epoch 12/20\n",
            "\u001b[1m17606/17606\u001b[0m \u001b[32m━━━━━━━━━━━━━━━━━━━━\u001b[0m\u001b[37m\u001b[0m \u001b[1m55s\u001b[0m 3ms/step - loss: 0.0169 - root_mean_squared_error: 0.1300 - val_loss: 0.0172 - val_root_mean_squared_error: 0.1310 - learning_rate: 6.2500e-05\n",
            "Epoch 13/20\n",
            "\u001b[1m17606/17606\u001b[0m \u001b[32m━━━━━━━━━━━━━━━━━━━━\u001b[0m\u001b[37m\u001b[0m \u001b[1m0s\u001b[0m 2ms/step - loss: 0.0169 - root_mean_squared_error: 0.1300\n",
            "Epoch 13: ReduceLROnPlateau reducing learning rate to 3.125000148429535e-05.\n",
            "\u001b[1m17606/17606\u001b[0m \u001b[32m━━━━━━━━━━━━━━━━━━━━\u001b[0m\u001b[37m\u001b[0m \u001b[1m53s\u001b[0m 3ms/step - loss: 0.0169 - root_mean_squared_error: 0.1300 - val_loss: 0.0172 - val_root_mean_squared_error: 0.1310 - learning_rate: 6.2500e-05\n",
            "Epoch 14/20\n",
            "\u001b[1m17606/17606\u001b[0m \u001b[32m━━━━━━━━━━━━━━━━━━━━\u001b[0m\u001b[37m\u001b[0m \u001b[1m53s\u001b[0m 3ms/step - loss: 0.0169 - root_mean_squared_error: 0.1301 - val_loss: 0.0172 - val_root_mean_squared_error: 0.1310 - learning_rate: 3.1250e-05\n",
            "Epoch 15/20\n",
            "\u001b[1m17597/17606\u001b[0m \u001b[32m━━━━━━━━━━━━━━━━━━━\u001b[0m\u001b[37m━\u001b[0m \u001b[1m0s\u001b[0m 2ms/step - loss: 0.0169 - root_mean_squared_error: 0.1300\n",
            "Epoch 15: ReduceLROnPlateau reducing learning rate to 1.5625000742147677e-05.\n",
            "\u001b[1m17606/17606\u001b[0m \u001b[32m━━━━━━━━━━━━━━━━━━━━\u001b[0m\u001b[37m\u001b[0m \u001b[1m52s\u001b[0m 3ms/step - loss: 0.0169 - root_mean_squared_error: 0.1300 - val_loss: 0.0172 - val_root_mean_squared_error: 0.1310 - learning_rate: 3.1250e-05\n",
            "Epoch 16/20\n",
            "\u001b[1m17606/17606\u001b[0m \u001b[32m━━━━━━━━━━━━━━━━━━━━\u001b[0m\u001b[37m\u001b[0m \u001b[1m52s\u001b[0m 3ms/step - loss: 0.0169 - root_mean_squared_error: 0.1300 - val_loss: 0.0172 - val_root_mean_squared_error: 0.1310 - learning_rate: 1.5625e-05\n",
            "Epoch 17/20\n",
            "\u001b[1m17594/17606\u001b[0m \u001b[32m━━━━━━━━━━━━━━━━━━━\u001b[0m\u001b[37m━\u001b[0m \u001b[1m0s\u001b[0m 2ms/step - loss: 0.0169 - root_mean_squared_error: 0.1300\n",
            "Epoch 17: ReduceLROnPlateau reducing learning rate to 7.812500371073838e-06.\n",
            "\u001b[1m17606/17606\u001b[0m \u001b[32m━━━━━━━━━━━━━━━━━━━━\u001b[0m\u001b[37m\u001b[0m \u001b[1m81s\u001b[0m 3ms/step - loss: 0.0169 - root_mean_squared_error: 0.1300 - val_loss: 0.0172 - val_root_mean_squared_error: 0.1310 - learning_rate: 1.5625e-05\n",
            "Epoch 18/20\n",
            "\u001b[1m17606/17606\u001b[0m \u001b[32m━━━━━━━━━━━━━━━━━━━━\u001b[0m\u001b[37m\u001b[0m \u001b[1m83s\u001b[0m 3ms/step - loss: 0.0169 - root_mean_squared_error: 0.1300 - val_loss: 0.0172 - val_root_mean_squared_error: 0.1310 - learning_rate: 7.8125e-06\n",
            "Epoch 19/20\n",
            "\u001b[1m17595/17606\u001b[0m \u001b[32m━━━━━━━━━━━━━━━━━━━\u001b[0m\u001b[37m━\u001b[0m \u001b[1m0s\u001b[0m 2ms/step - loss: 0.0169 - root_mean_squared_error: 0.1300\n",
            "Epoch 19: ReduceLROnPlateau reducing learning rate to 3.906250185536919e-06.\n",
            "\u001b[1m17606/17606\u001b[0m \u001b[32m━━━━━━━━━━━━━━━━━━━━\u001b[0m\u001b[37m\u001b[0m \u001b[1m82s\u001b[0m 3ms/step - loss: 0.0169 - root_mean_squared_error: 0.1300 - val_loss: 0.0172 - val_root_mean_squared_error: 0.1310 - learning_rate: 7.8125e-06\n",
            "Epoch 20/20\n",
            "\u001b[1m17606/17606\u001b[0m \u001b[32m━━━━━━━━━━━━━━━━━━━━\u001b[0m\u001b[37m\u001b[0m \u001b[1m82s\u001b[0m 3ms/step - loss: 0.0169 - root_mean_squared_error: 0.1300 - val_loss: 0.0172 - val_root_mean_squared_error: 0.1310 - learning_rate: 3.9063e-06\n",
            "Restoring model weights from the end of the best epoch: 20.\n"
          ]
        }
      ],
      "source": [
        "print(\"\\n--- Memulai Pelatihan Model 1: RecommenderNet ---\")\n",
        "history_recommender = recommender_net_model.fit(\n",
        "    x_train, y_train,\n",
        "    batch_size=BATCH_SIZE,\n",
        "    epochs=EPOCHS,\n",
        "    validation_data=(x_val, y_val),\n",
        "    callbacks=callbacks\n",
        ")"
      ]
    },
    {
      "cell_type": "markdown",
      "id": "261aa5b2",
      "metadata": {
        "id": "261aa5b2"
      },
      "source": [
        "## 7.2. NeuMF"
      ]
    },
    {
      "cell_type": "code",
      "execution_count": 39,
      "id": "dcff66d5",
      "metadata": {
        "colab": {
          "base_uri": "https://localhost:8080/"
        },
        "id": "dcff66d5",
        "outputId": "bd46a372-9415-4c75-d746-10e1fb9ed524"
      },
      "outputs": [
        {
          "name": "stdout",
          "output_type": "stream",
          "text": [
            "\n",
            "--- Memulai Pelatihan Model 2: NeuMF ---\n",
            "Epoch 1/20\n",
            "\u001b[1m17606/17606\u001b[0m \u001b[32m━━━━━━━━━━━━━━━━━━━━\u001b[0m\u001b[37m\u001b[0m \u001b[1m65s\u001b[0m 3ms/step - loss: 0.0204 - root_mean_squared_error: 0.1420 - val_loss: 0.0165 - val_root_mean_squared_error: 0.1283 - learning_rate: 0.0010\n",
            "Epoch 2/20\n",
            "\u001b[1m17606/17606\u001b[0m \u001b[32m━━━━━━━━━━━━━━━━━━━━\u001b[0m\u001b[37m\u001b[0m \u001b[1m78s\u001b[0m 3ms/step - loss: 0.0155 - root_mean_squared_error: 0.1246 - val_loss: 0.0157 - val_root_mean_squared_error: 0.1255 - learning_rate: 0.0010\n",
            "Epoch 3/20\n",
            "\u001b[1m17606/17606\u001b[0m \u001b[32m━━━━━━━━━━━━━━━━━━━━\u001b[0m\u001b[37m\u001b[0m \u001b[1m84s\u001b[0m 3ms/step - loss: 0.0143 - root_mean_squared_error: 0.1198 - val_loss: 0.0156 - val_root_mean_squared_error: 0.1249 - learning_rate: 0.0010\n",
            "Epoch 4/20\n",
            "\u001b[1m17606/17606\u001b[0m \u001b[32m━━━━━━━━━━━━━━━━━━━━\u001b[0m\u001b[37m\u001b[0m \u001b[1m81s\u001b[0m 3ms/step - loss: 0.0136 - root_mean_squared_error: 0.1168 - val_loss: 0.0155 - val_root_mean_squared_error: 0.1247 - learning_rate: 0.0010\n",
            "Epoch 5/20\n",
            "\u001b[1m17606/17606\u001b[0m \u001b[32m━━━━━━━━━━━━━━━━━━━━\u001b[0m\u001b[37m\u001b[0m \u001b[1m60s\u001b[0m 3ms/step - loss: 0.0131 - root_mean_squared_error: 0.1144 - val_loss: 0.0154 - val_root_mean_squared_error: 0.1243 - learning_rate: 0.0010\n",
            "Epoch 6/20\n",
            "\u001b[1m17606/17606\u001b[0m \u001b[32m━━━━━━━━━━━━━━━━━━━━\u001b[0m\u001b[37m\u001b[0m \u001b[1m82s\u001b[0m 3ms/step - loss: 0.0126 - root_mean_squared_error: 0.1123 - val_loss: 0.0155 - val_root_mean_squared_error: 0.1245 - learning_rate: 0.0010\n",
            "Epoch 7/20\n",
            "\u001b[1m17597/17606\u001b[0m \u001b[32m━━━━━━━━━━━━━━━━━━━\u001b[0m\u001b[37m━\u001b[0m \u001b[1m0s\u001b[0m 3ms/step - loss: 0.0122 - root_mean_squared_error: 0.1105\n",
            "Epoch 7: ReduceLROnPlateau reducing learning rate to 0.0005000000237487257.\n",
            "\u001b[1m17606/17606\u001b[0m \u001b[32m━━━━━━━━━━━━━━━━━━━━\u001b[0m\u001b[37m\u001b[0m \u001b[1m81s\u001b[0m 3ms/step - loss: 0.0122 - root_mean_squared_error: 0.1105 - val_loss: 0.0156 - val_root_mean_squared_error: 0.1247 - learning_rate: 0.0010\n",
            "Epoch 8/20\n",
            "\u001b[1m17606/17606\u001b[0m \u001b[32m━━━━━━━━━━━━━━━━━━━━\u001b[0m\u001b[37m\u001b[0m \u001b[1m82s\u001b[0m 3ms/step - loss: 0.0114 - root_mean_squared_error: 0.1068 - val_loss: 0.0159 - val_root_mean_squared_error: 0.1260 - learning_rate: 5.0000e-04\n",
            "Epoch 8: early stopping\n",
            "Restoring model weights from the end of the best epoch: 5.\n"
          ]
        }
      ],
      "source": [
        "print(\"\\n--- Memulai Pelatihan Model 2: NeuMF ---\")\n",
        "history_neuMF = neuMF_model.fit(\n",
        "    [x_train[:, 0], x_train[:, 1]], y_train,\n",
        "    batch_size=BATCH_SIZE,\n",
        "    epochs=EPOCHS,\n",
        "    validation_data=([x_val[:, 0], x_val[:, 1]], y_val),\n",
        "    callbacks=callbacks\n",
        ")"
      ]
    },
    {
      "cell_type": "markdown",
      "id": "f88b835e",
      "metadata": {
        "id": "f88b835e"
      },
      "source": [
        "# **8. Model Evaluation**"
      ]
    },
    {
      "cell_type": "markdown",
      "id": "34991633",
      "metadata": {
        "id": "34991633"
      },
      "source": [
        "## 8.1. Plot History Training"
      ]
    },
    {
      "cell_type": "markdown",
      "id": "7eccf548",
      "metadata": {
        "id": "7eccf548"
      },
      "source": [
        "Membandingkan dua model rekomendasi, RecommenderNet dan NeuMF, dengan menampilkan grafik yang menunjukkan bagaimana loss dan RMSE berubah selama pelatihan."
      ]
    },
    {
      "cell_type": "code",
      "execution_count": 40,
      "id": "527e19f1",
      "metadata": {
        "colab": {
          "base_uri": "https://localhost:8080/",
          "height": 336
        },
        "id": "527e19f1",
        "outputId": "ca728de8-61f2-4719-8a8c-5c5f24b492cb"
      },
      "outputs": [
        {
          "data": {
            "image/png": "[encoded data removed]",
            "text/plain": [
              "<Figure size 1600x600 with 2 Axes>"
            ]
          },
          "metadata": {},
          "output_type": "display_data"
        }
      ],
      "source": [
        "# Membuat figure untuk dua plot berdampingan\n",
        "fig, (ax1, ax2) = plt.subplots(1, 2, figsize=(16, 6))\n",
        "fig.suptitle('Grafik Performa Training Model', fontsize=16)\n",
        "\n",
        "# Plot 1: RecommenderNet\n",
        "ax1.plot(history_recommender.history['root_mean_squared_error'], label='RMSE Training')\n",
        "ax1.plot(history_recommender.history['val_root_mean_squared_error'], label='RMSE Validasi')\n",
        "ax1.set_title('RecommenderNet')\n",
        "ax1.set_xlabel('Epoch')\n",
        "ax1.set_ylabel('RMSE')\n",
        "ax1.legend()\n",
        "ax1.grid(True)\n",
        "\n",
        "# Plot 2: NeuMF\n",
        "ax2.plot(history_neuMF.history['root_mean_squared_error'], label='RMSE Training')\n",
        "ax2.plot(history_neuMF.history['val_root_mean_squared_error'], label='RMSE Validasi')\n",
        "ax2.set_title('NeuMF')\n",
        "ax2.set_xlabel('Epoch')\n",
        "ax2.set_ylabel('RMSE')\n",
        "ax2.legend()\n",
        "ax2.grid(True)\n",
        "\n",
        "plt.tight_layout(rect=[0, 0, 1, 0.96])\n",
        "plt.show()"
      ]
    },
    {
      "cell_type": "markdown",
      "id": "b3be03f4",
      "metadata": {
        "id": "b3be03f4"
      },
      "source": [
        "## 8.2. Metrik Error (RMSE, MAE)"
      ]
    },
    {
      "cell_type": "markdown",
      "id": "4509ab85",
      "metadata": {
        "id": "4509ab85"
      },
      "source": [
        "Membandingkan kinerja dua model rekomendasi, RecommenderNet dan NeuMF, dengan menghitung beberapa metrik evaluasi seperti RMSE dan MAE"
      ]
    },
    {
      "cell_type": "code",
      "execution_count": 41,
      "id": "51a2cf34",
      "metadata": {
        "colab": {
          "base_uri": "https://localhost:8080/"
        },
        "id": "51a2cf34",
        "outputId": "6ad1cb81-207f-45ff-f7b8-0fbfe8bc163f"
      },
      "outputs": [
        {
          "name": "stdout",
          "output_type": "stream",
          "text": [
            "\u001b[1m35212/35212\u001b[0m \u001b[32m━━━━━━━━━━━━━━━━━━━━\u001b[0m\u001b[37m\u001b[0m \u001b[1m45s\u001b[0m 1ms/step\n",
            "\u001b[1m35212/35212\u001b[0m \u001b[32m━━━━━━━━━━━━━━━━━━━━\u001b[0m\u001b[37m\u001b[0m \u001b[1m60s\u001b[0m 2ms/step\n",
            "Perbandingan Metrik Evaluasi:\n",
            "  Metric  RecommenderNet     NeuMF\n",
            "0   RMSE        1.178885  1.118508\n",
            "1    MAE        0.892151  0.840907\n"
          ]
        }
      ],
      "source": [
        "# Prediksi dari kedua model pada data validasi\n",
        "pred_recommender = recommender_net_model.predict(x_val).flatten()\n",
        "pred_neuMF = neuMF_model.predict([x_val[:, 0], x_val[:, 1]]).flatten()\n",
        "\n",
        "# Mengembalikan nilai prediksi dan aktual ke skala rating asli\n",
        "y_val_rescaled = y_val * (max_rating - min_rating) + min_rating\n",
        "pred_recommender_rescaled = pred_recommender * (max_rating - min_rating) + min_rating\n",
        "pred_neuMF_rescaled = pred_neuMF * (max_rating - min_rating) + min_rating\n",
        "\n",
        "# Hitung metrik untuk RecommenderNet\n",
        "rmse_recommender = np.sqrt(mean_squared_error(y_val_rescaled, pred_recommender_rescaled))\n",
        "mae_recommender = mean_absolute_error(y_val_rescaled, pred_recommender_rescaled)\n",
        "\n",
        "# Hitung metrik untuk NeuMF\n",
        "rmse_neuMF = np.sqrt(mean_squared_error(y_val_rescaled, pred_neuMF_rescaled))\n",
        "mae_neuMF = mean_absolute_error(y_val_rescaled, pred_neuMF_rescaled)\n",
        "\n",
        "# Buat DataFrame untuk perbandingan\n",
        "comparison_data = {\n",
        "    \"Metric\": [\"RMSE\", \"MAE\"],\n",
        "    \"RecommenderNet\": [rmse_recommender, mae_recommender],\n",
        "    \"NeuMF\": [rmse_neuMF, mae_neuMF]\n",
        "}\n",
        "comparison_df = pd.DataFrame(comparison_data)\n",
        "print(\"Perbandingan Metrik Evaluasi:\")\n",
        "print(comparison_df)"
      ]
    },
    {
      "cell_type": "markdown",
      "id": "60258e11",
      "metadata": {
        "id": "60258e11"
      },
      "source": [
        "## 8.3. Scatterplot : Actual Rating vs Predicted Rating"
      ]
    },
    {
      "cell_type": "markdown",
      "id": "853f9751",
      "metadata": {
        "id": "853f9751"
      },
      "source": [
        "Scatter plot ini membandingkan akurasi model RecommenderNet dan NeuMF. Sumbu horizontal menunjukkan rating asli dari pengguna, sementara sumbu vertikal adalah rating hasil prediksi. Semakin dekat sebaran titik ke garis diagonal merah, semakin akurat prediksi model tersebut."
      ]
    },
    {
      "cell_type": "code",
      "execution_count": 43,
      "id": "b8f4258e",
      "metadata": {
        "colab": {
          "base_uri": "https://localhost:8080/",
          "height": 389
        },
        "id": "b8f4258e",
        "outputId": "223fcf1e-e87a-43fa-8a9f-9664a978ef6c"
      },
      "outputs": [
        {
          "data": {
            "image/png": "[encoded data removed]",
            "text/plain": [
              "<Figure size 1600x700 with 2 Axes>"
            ]
          },
          "metadata": {},
          "output_type": "display_data"
        }
      ],
      "source": [
        "# Membuat figure dan axes untuk dua scatter plot berdampingan\n",
        "fig, (ax1, ax2) = plt.subplots(1, 2, figsize=(16, 7))\n",
        "fig.suptitle('Perbandingan Rating Aktual vs. Prediksi Model', fontsize=16)\n",
        "\n",
        "# Plot 1: RecommenderNet\n",
        "# alpha=0.1 digunakan agar tumpukan titik terlihat transparan\n",
        "ax1.scatter(y_val_rescaled, pred_recommender_rescaled, alpha=0.1, color='dodgerblue', s=20)\n",
        "# Garis merah menunjukkan prediksi yang sempurna (y=x)\n",
        "ax1.plot([min_rating, max_rating], [min_rating, max_rating], color='red', linestyle='--', linewidth=2)\n",
        "ax1.set_xlabel('Rating Aktual')\n",
        "ax1.set_ylabel('Rating Prediksi')\n",
        "ax1.set_title('RecommenderNet')\n",
        "ax1.grid(True)\n",
        "\n",
        "# Plot 2: NeuMF\n",
        "ax2.scatter(y_val_rescaled, pred_neuMF_rescaled, alpha=0.1, color='forestgreen', s=20)\n",
        "ax2.plot([min_rating, max_rating], [min_rating, max_rating], color='red', linestyle='--', linewidth=2)\n",
        "ax2.set_xlabel('Rating Aktual')\n",
        "ax2.set_ylabel('Rating Prediksi')\n",
        "ax2.set_title('NeuMF')\n",
        "ax2.grid(True)\n",
        "\n",
        "# Menampilkan plot\n",
        "plt.tight_layout(rect=[0, 0, 1, 0.95])\n",
        "plt.show()"
      ]
    },
    {
      "cell_type": "markdown",
      "id": "a12a3543",
      "metadata": {
        "id": "a12a3543"
      },
      "source": [
        "## 8.4. Top-N"
      ]
    },
    {
      "cell_type": "markdown",
      "id": "ea29e36e",
      "metadata": {
        "id": "ea29e36e"
      },
      "source": [
        "Membandingkan rekomendasi film dari dua model, RecommenderNet dan NeuMF, berdasarkan prediksi yang dihasilkan oleh masing-masing model."
      ]
    },
    {
      "cell_type": "code",
      "execution_count": 45,
      "id": "5599aa2f",
      "metadata": {
        "colab": {
          "base_uri": "https://localhost:8080/",
          "height": 567
        },
        "id": "5599aa2f",
        "outputId": "6effeddb-ef6f-40e6-c48f-1fd5f30a211b"
      },
      "outputs": [
        {
          "name": "stdout",
          "output_type": "stream",
          "text": [
            "======================================================\n",
            "Menampilkan Rekomendasi Teratas untuk User ID: 3\n",
            "======================================================\n",
            "\n",
            "--- Perbandingan Top-10 Rekomendasi ---\n"
          ]
        },
        {
          "data": {
            "application/vnd.google.colaboratory.intrinsic+json": {
              "summary": "{\n  \"name\": \"comparison_table\",\n  \"rows\": 10,\n  \"fields\": [\n    {\n      \"column\": \"Rank\",\n      \"properties\": {\n        \"dtype\": \"number\",\n        \"std\": 3,\n        \"min\": 1,\n        \"max\": 10,\n        \"num_unique_values\": 10,\n        \"samples\": [\n          9,\n          2,\n          6\n        ],\n        \"semantic_type\": \"\",\n        \"description\": \"\"\n      }\n    },\n    {\n      \"column\": \"Rekomendasi RecommenderNet\",\n      \"properties\": {\n        \"dtype\": \"string\",\n        \"num_unique_values\": 10,\n        \"samples\": [\n          \"Gintama Movie: Kanketsu-hen - Yorozuya yo Eien Nare\",\n          \"Gintama\\u00b0\",\n          \"Gintama&#039;: Enchousen\"\n        ],\n        \"semantic_type\": \"\",\n        \"description\": \"\"\n      }\n    },\n    {\n      \"column\": \"Prediksi Rating\",\n      \"properties\": {\n        \"dtype\": \"float32\",\n        \"num_unique_values\": 10,\n        \"samples\": [\n          9.235682487487793,\n          9.495574951171875,\n          9.246075630187988\n        ],\n        \"semantic_type\": \"\",\n        \"description\": \"\"\n      }\n    },\n    {\n      \"column\": \"Rekomendasi NeuMF\",\n      \"properties\": {\n        \"dtype\": \"string\",\n        \"num_unique_values\": 10,\n        \"samples\": [\n          \"Hajime no Ippo\",\n          \"Hunter x Hunter (2011)\",\n          \"Gintama&#039;: Enchousen\"\n        ],\n        \"semantic_type\": \"\",\n        \"description\": \"\"\n      }\n    },\n    {\n      \"column\": \"Prediksi Rating\",\n      \"properties\": {\n        \"dtype\": \"float32\",\n        \"num_unique_values\": 10,\n        \"samples\": [\n          9.661382675170898,\n          9.820727348327637,\n          9.777562141418457\n        ],\n        \"semantic_type\": \"\",\n        \"description\": \"\"\n      }\n    }\n  ]\n}",
              "type": "dataframe",
              "variable_name": "comparison_table"
            },
            "text/html": [
              "\n",
              "  <div id=\"df-b48f2f18-b154-4620-b623-5c4359b06ffb\" class=\"colab-df-container\">\n",
              "    <div>\n",
              "<style scoped>\n",
              "    .dataframe tbody tr th:only-of-type {\n",
              "        vertical-align: middle;\n",
              "    }\n",
              "\n",
              "    .dataframe tbody tr th {\n",
              "        vertical-align: top;\n",
              "    }\n",
              "\n",
              "    .dataframe thead th {\n",
              "        text-align: right;\n",
              "    }\n",
              "</style>\n",
              "<table border=\"1\" class=\"dataframe\">\n",
              "  <thead>\n",
              "    <tr style=\"text-align: right;\">\n",
              "      <th></th>\n",
              "      <th>Rekomendasi RecommenderNet</th>\n",
              "      <th>Prediksi Rating</th>\n",
              "      <th>Rekomendasi NeuMF</th>\n",
              "      <th>Prediksi Rating</th>\n",
              "    </tr>\n",
              "    <tr>\n",
              "      <th>Rank</th>\n",
              "      <th></th>\n",
              "      <th></th>\n",
              "      <th></th>\n",
              "      <th></th>\n",
              "    </tr>\n",
              "  </thead>\n",
              "  <tbody>\n",
              "    <tr>\n",
              "      <th>1</th>\n",
              "      <td>Ginga Eiyuu Densetsu</td>\n",
              "      <td>9.631790</td>\n",
              "      <td>Gintama°</td>\n",
              "      <td>9.871418</td>\n",
              "    </tr>\n",
              "    <tr>\n",
              "      <th>2</th>\n",
              "      <td>Gintama°</td>\n",
              "      <td>9.495575</td>\n",
              "      <td>Hunter x Hunter (2011)</td>\n",
              "      <td>9.820727</td>\n",
              "    </tr>\n",
              "    <tr>\n",
              "      <th>3</th>\n",
              "      <td>Kimi no Na wa.</td>\n",
              "      <td>9.373096</td>\n",
              "      <td>Ginga Eiyuu Densetsu</td>\n",
              "      <td>9.818521</td>\n",
              "    </tr>\n",
              "    <tr>\n",
              "      <th>4</th>\n",
              "      <td>Gintama&amp;#039;</td>\n",
              "      <td>9.284569</td>\n",
              "      <td>Gintama</td>\n",
              "      <td>9.802258</td>\n",
              "    </tr>\n",
              "    <tr>\n",
              "      <th>5</th>\n",
              "      <td>Steins;Gate</td>\n",
              "      <td>9.265119</td>\n",
              "      <td>Gintama&amp;#039;</td>\n",
              "      <td>9.799044</td>\n",
              "    </tr>\n",
              "    <tr>\n",
              "      <th>6</th>\n",
              "      <td>Gintama&amp;#039;: Enchousen</td>\n",
              "      <td>9.246076</td>\n",
              "      <td>Gintama&amp;#039;: Enchousen</td>\n",
              "      <td>9.777562</td>\n",
              "    </tr>\n",
              "    <tr>\n",
              "      <th>7</th>\n",
              "      <td>Hunter x Hunter (2011)</td>\n",
              "      <td>9.242425</td>\n",
              "      <td>Gintama Movie: Kanketsu-hen - Yorozuya yo Eien...</td>\n",
              "      <td>9.716660</td>\n",
              "    </tr>\n",
              "    <tr>\n",
              "      <th>8</th>\n",
              "      <td>Gintama</td>\n",
              "      <td>9.238415</td>\n",
              "      <td>Haikyuu!!: Karasuno Koukou VS Shiratorizawa Ga...</td>\n",
              "      <td>9.689471</td>\n",
              "    </tr>\n",
              "    <tr>\n",
              "      <th>9</th>\n",
              "      <td>Gintama Movie: Kanketsu-hen - Yorozuya yo Eien...</td>\n",
              "      <td>9.235682</td>\n",
              "      <td>Hajime no Ippo</td>\n",
              "      <td>9.661383</td>\n",
              "    </tr>\n",
              "    <tr>\n",
              "      <th>10</th>\n",
              "      <td>Haikyuu!!: Karasuno Koukou VS Shiratorizawa Ga...</td>\n",
              "      <td>9.192339</td>\n",
              "      <td>Steins;Gate</td>\n",
              "      <td>9.635270</td>\n",
              "    </tr>\n",
              "  </tbody>\n",
              "</table>\n",
              "</div>\n",
              "    <div class=\"colab-df-buttons\">\n",
              "\n",
              "  <div class=\"colab-df-container\">\n",
              "    <button class=\"colab-df-convert\" onclick=\"convertToInteractive('df-b48f2f18-b154-4620-b623-5c4359b06ffb')\"\n",
              "            title=\"Convert this dataframe to an interactive table.\"\n",
              "            style=\"display:none;\">\n",
              "\n",
              "  <svg xmlns=\"http://www.w3.org/2000/svg\" height=\"24px\" viewBox=\"0 -960 960 960\">\n",
              "    <path d=\"M120-120v-720h720v720H120Zm60-500h600v-160H180v160Zm220 220h160v-160H400v160Zm0 220h160v-160H400v160ZM180-400h160v-160H180v160Zm440 0h160v-160H620v160ZM180-180h160v-160H180v160Zm440 0h160v-160H620v160Z\"/>\n",
              "  </svg>\n",
              "    </button>\n",
              "\n",
              "  <style>\n",
              "    .colab-df-container {\n",
              "      display:flex;\n",
              "      gap: 12px;\n",
              "    }\n",
              "\n",
              "    .colab-df-convert {\n",
              "      background-color: #E8F0FE;\n",
              "      border: none;\n",
              "      border-radius: 50%;\n",
              "      cursor: pointer;\n",
              "      display: none;\n",
              "      fill: #1967D2;\n",
              "      height: 32px;\n",
              "      padding: 0 0 0 0;\n",
              "      width: 32px;\n",
              "    }\n",
              "\n",
              "    .colab-df-convert:hover {\n",
              "      background-color: #E2EBFA;\n",
              "      box-shadow: 0px 1px 2px rgba(60, 64, 67, 0.3), 0px 1px 3px 1px rgba(60, 64, 67, 0.15);\n",
              "      fill: #174EA6;\n",
              "    }\n",
              "\n",
              "    .colab-df-buttons div {\n",
              "      margin-bottom: 4px;\n",
              "    }\n",
              "\n",
              "    [theme=dark] .colab-df-convert {\n",
              "      background-color: #3B4455;\n",
              "      fill: #D2E3FC;\n",
              "    }\n",
              "\n",
              "    [theme=dark] .colab-df-convert:hover {\n",
              "      background-color: #434B5C;\n",
              "      box-shadow: 0px 1px 3px 1px rgba(0, 0, 0, 0.15);\n",
              "      filter: drop-shadow(0px 1px 2px rgba(0, 0, 0, 0.3));\n",
              "      fill: #FFFFFF;\n",
              "    }\n",
              "  </style>\n",
              "\n",
              "    <script>\n",
              "      const buttonEl =\n",
              "        document.querySelector('#df-b48f2f18-b154-4620-b623-5c4359b06ffb button.colab-df-convert');\n",
              "      buttonEl.style.display =\n",
              "        google.colab.kernel.accessAllowed ? 'block' : 'none';\n",
              "\n",
              "      async function convertToInteractive(key) {\n",
              "        const element = document.querySelector('#df-b48f2f18-b154-4620-b623-5c4359b06ffb');\n",
              "        const dataTable =\n",
              "          await google.colab.kernel.invokeFunction('convertToInteractive',\n",
              "                                                    [key], {});\n",
              "        if (!dataTable) return;\n",
              "\n",
              "        const docLinkHtml = 'Like what you see? Visit the ' +\n",
              "          '<a target=\"_blank\" href=https://colab.research.google.com/notebooks/data_table.ipynb>data table notebook</a>'\n",
              "          + ' to learn more about interactive tables.';\n",
              "        element.innerHTML = '';\n",
              "        dataTable['output_type'] = 'display_data';\n",
              "        await google.colab.output.renderOutput(dataTable, element);\n",
              "        const docLink = document.createElement('div');\n",
              "        docLink.innerHTML = docLinkHtml;\n",
              "        element.appendChild(docLink);\n",
              "      }\n",
              "    </script>\n",
              "  </div>\n",
              "\n",
              "\n",
              "    <div id=\"df-8d65f019-bfea-4ec2-94d3-5a2b3fd4e0f4\">\n",
              "      <button class=\"colab-df-quickchart\" onclick=\"quickchart('df-8d65f019-bfea-4ec2-94d3-5a2b3fd4e0f4')\"\n",
              "                title=\"Suggest charts\"\n",
              "                style=\"display:none;\">\n",
              "\n",
              "<svg xmlns=\"http://www.w3.org/2000/svg\" height=\"24px\"viewBox=\"0 0 24 24\"\n",
              "     width=\"24px\">\n",
              "    <g>\n",
              "        <path d=\"M19 3H5c-1.1 0-2 .9-2 2v14c0 1.1.9 2 2 2h14c1.1 0 2-.9 2-2V5c0-1.1-.9-2-2-2zM9 17H7v-7h2v7zm4 0h-2V7h2v10zm4 0h-2v-4h2v4z\"/>\n",
              "    </g>\n",
              "</svg>\n",
              "      </button>\n",
              "\n",
              "<style>\n",
              "  .colab-df-quickchart {\n",
              "      --bg-color: #E8F0FE;\n",
              "      --fill-color: #1967D2;\n",
              "      --hover-bg-color: #E2EBFA;\n",
              "      --hover-fill-color: #174EA6;\n",
              "      --disabled-fill-color: #AAA;\n",
              "      --disabled-bg-color: #DDD;\n",
              "  }\n",
              "\n",
              "  [theme=dark] .colab-df-quickchart {\n",
              "      --bg-color: #3B4455;\n",
              "      --fill-color: #D2E3FC;\n",
              "      --hover-bg-color: #434B5C;\n",
              "      --hover-fill-color: #FFFFFF;\n",
              "      --disabled-bg-color: #3B4455;\n",
              "      --disabled-fill-color: #666;\n",
              "  }\n",
              "\n",
              "  .colab-df-quickchart {\n",
              "    background-color: var(--bg-color);\n",
              "    border: none;\n",
              "    border-radius: 50%;\n",
              "    cursor: pointer;\n",
              "    display: none;\n",
              "    fill: var(--fill-color);\n",
              "    height: 32px;\n",
              "    padding: 0;\n",
              "    width: 32px;\n",
              "  }\n",
              "\n",
              "  .colab-df-quickchart:hover {\n",
              "    background-color: var(--hover-bg-color);\n",
              "    box-shadow: 0 1px 2px rgba(60, 64, 67, 0.3), 0 1px 3px 1px rgba(60, 64, 67, 0.15);\n",
              "    fill: var(--button-hover-fill-color);\n",
              "  }\n",
              "\n",
              "  .colab-df-quickchart-complete:disabled,\n",
              "  .colab-df-quickchart-complete:disabled:hover {\n",
              "    background-color: var(--disabled-bg-color);\n",
              "    fill: var(--disabled-fill-color);\n",
              "    box-shadow: none;\n",
              "  }\n",
              "\n",
              "  .colab-df-spinner {\n",
              "    border: 2px solid var(--fill-color);\n",
              "    border-color: transparent;\n",
              "    border-bottom-color: var(--fill-color);\n",
              "    animation:\n",
              "      spin 1s steps(1) infinite;\n",
              "  }\n",
              "\n",
              "  @keyframes spin {\n",
              "    0% {\n",
              "      border-color: transparent;\n",
              "      border-bottom-color: var(--fill-color);\n",
              "      border-left-color: var(--fill-color);\n",
              "    }\n",
              "    20% {\n",
              "      border-color: transparent;\n",
              "      border-left-color: var(--fill-color);\n",
              "      border-top-color: var(--fill-color);\n",
              "    }\n",
              "    30% {\n",
              "      border-color: transparent;\n",
              "      border-left-color: var(--fill-color);\n",
              "      border-top-color: var(--fill-color);\n",
              "      border-right-color: var(--fill-color);\n",
              "    }\n",
              "    40% {\n",
              "      border-color: transparent;\n",
              "      border-right-color: var(--fill-color);\n",
              "      border-top-color: var(--fill-color);\n",
              "    }\n",
              "    60% {\n",
              "      border-color: transparent;\n",
              "      border-right-color: var(--fill-color);\n",
              "    }\n",
              "    80% {\n",
              "      border-color: transparent;\n",
              "      border-right-color: var(--fill-color);\n",
              "      border-bottom-color: var(--fill-color);\n",
              "    }\n",
              "    90% {\n",
              "      border-color: transparent;\n",
              "      border-bottom-color: var(--fill-color);\n",
              "    }\n",
              "  }\n",
              "</style>\n",
              "\n",
              "      <script>\n",
              "        async function quickchart(key) {\n",
              "          const quickchartButtonEl =\n",
              "            document.querySelector('#' + key + ' button');\n",
              "          quickchartButtonEl.disabled = true;  // To prevent multiple clicks.\n",
              "          quickchartButtonEl.classList.add('colab-df-spinner');\n",
              "          try {\n",
              "            const charts = await google.colab.kernel.invokeFunction(\n",
              "                'suggestCharts', [key], {});\n",
              "          } catch (error) {\n",
              "            console.error('Error during call to suggestCharts:', error);\n",
              "          }\n",
              "          quickchartButtonEl.classList.remove('colab-df-spinner');\n",
              "          quickchartButtonEl.classList.add('colab-df-quickchart-complete');\n",
              "        }\n",
              "        (() => {\n",
              "          let quickchartButtonEl =\n",
              "            document.querySelector('#df-8d65f019-bfea-4ec2-94d3-5a2b3fd4e0f4 button');\n",
              "          quickchartButtonEl.style.display =\n",
              "            google.colab.kernel.accessAllowed ? 'block' : 'none';\n",
              "        })();\n",
              "      </script>\n",
              "    </div>\n",
              "\n",
              "  <div id=\"id_4d597604-361d-422f-b6ab-e28df2372a14\">\n",
              "    <style>\n",
              "      .colab-df-generate {\n",
              "        background-color: #E8F0FE;\n",
              "        border: none;\n",
              "        border-radius: 50%;\n",
              "        cursor: pointer;\n",
              "        display: none;\n",
              "        fill: #1967D2;\n",
              "        height: 32px;\n",
              "        padding: 0 0 0 0;\n",
              "        width: 32px;\n",
              "      }\n",
              "\n",
              "      .colab-df-generate:hover {\n",
              "        background-color: #E2EBFA;\n",
              "        box-shadow: 0px 1px 2px rgba(60, 64, 67, 0.3), 0px 1px 3px 1px rgba(60, 64, 67, 0.15);\n",
              "        fill: #174EA6;\n",
              "      }\n",
              "\n",
              "      [theme=dark] .colab-df-generate {\n",
              "        background-color: #3B4455;\n",
              "        fill: #D2E3FC;\n",
              "      }\n",
              "\n",
              "      [theme=dark] .colab-df-generate:hover {\n",
              "        background-color: #434B5C;\n",
              "        box-shadow: 0px 1px 3px 1px rgba(0, 0, 0, 0.15);\n",
              "        filter: drop-shadow(0px 1px 2px rgba(0, 0, 0, 0.3));\n",
              "        fill: #FFFFFF;\n",
              "      }\n",
              "    </style>\n",
              "    <button class=\"colab-df-generate\" onclick=\"generateWithVariable('comparison_table')\"\n",
              "            title=\"Generate code using this dataframe.\"\n",
              "            style=\"display:none;\">\n",
              "\n",
              "  <svg xmlns=\"http://www.w3.org/2000/svg\" height=\"24px\"viewBox=\"0 0 24 24\"\n",
              "       width=\"24px\">\n",
              "    <path d=\"M7,19H8.4L18.45,9,17,7.55,7,17.6ZM5,21V16.75L18.45,3.32a2,2,0,0,1,2.83,0l1.4,1.43a1.91,1.91,0,0,1,.58,1.4,1.91,1.91,0,0,1-.58,1.4L9.25,21ZM18.45,9,17,7.55Zm-12,3A5.31,5.31,0,0,0,4.9,8.1,5.31,5.31,0,0,0,1,6.5,5.31,5.31,0,0,0,4.9,4.9,5.31,5.31,0,0,0,6.5,1,5.31,5.31,0,0,0,8.1,4.9,5.31,5.31,0,0,0,12,6.5,5.46,5.46,0,0,0,6.5,12Z\"/>\n",
              "  </svg>\n",
              "    </button>\n",
              "    <script>\n",
              "      (() => {\n",
              "      const buttonEl =\n",
              "        document.querySelector('#id_4d597604-361d-422f-b6ab-e28df2372a14 button.colab-df-generate');\n",
              "      buttonEl.style.display =\n",
              "        google.colab.kernel.accessAllowed ? 'block' : 'none';\n",
              "\n",
              "      buttonEl.onclick = () => {\n",
              "        google.colab.notebook.generateWithVariable('comparison_table');\n",
              "      }\n",
              "      })();\n",
              "    </script>\n",
              "  </div>\n",
              "\n",
              "    </div>\n",
              "  </div>\n"
            ],
            "text/plain": [
              "                             Rekomendasi RecommenderNet  Prediksi Rating  \\\n",
              "Rank                                                                       \n",
              "1                                  Ginga Eiyuu Densetsu         9.631790   \n",
              "2                                              Gintama°         9.495575   \n",
              "3                                        Kimi no Na wa.         9.373096   \n",
              "4                                         Gintama&#039;         9.284569   \n",
              "5                                           Steins;Gate         9.265119   \n",
              "6                              Gintama&#039;: Enchousen         9.246076   \n",
              "7                                Hunter x Hunter (2011)         9.242425   \n",
              "8                                               Gintama         9.238415   \n",
              "9     Gintama Movie: Kanketsu-hen - Yorozuya yo Eien...         9.235682   \n",
              "10    Haikyuu!!: Karasuno Koukou VS Shiratorizawa Ga...         9.192339   \n",
              "\n",
              "                                      Rekomendasi NeuMF  Prediksi Rating  \n",
              "Rank                                                                      \n",
              "1                                              Gintama°         9.871418  \n",
              "2                                Hunter x Hunter (2011)         9.820727  \n",
              "3                                  Ginga Eiyuu Densetsu         9.818521  \n",
              "4                                               Gintama         9.802258  \n",
              "5                                         Gintama&#039;         9.799044  \n",
              "6                              Gintama&#039;: Enchousen         9.777562  \n",
              "7     Gintama Movie: Kanketsu-hen - Yorozuya yo Eien...         9.716660  \n",
              "8     Haikyuu!!: Karasuno Koukou VS Shiratorizawa Ga...         9.689471  \n",
              "9                                        Hajime no Ippo         9.661383  \n",
              "10                                          Steins;Gate         9.635270  "
            ]
          },
          "metadata": {},
          "output_type": "display_data"
        }
      ],
      "source": [
        "# --- Contoh Penggunaan dan Tampilan Berdampingan ---\n",
        "\n",
        "# Pilih satu user ID sampel dari data yang sudah kita filter\n",
        "sample_user_id = rating_filtered['user_id'].iloc[0]\n",
        "print(f\"======================================================\")\n",
        "print(f\"Menampilkan Rekomendasi Teratas untuk User ID: {sample_user_id}\")\n",
        "print(f\"======================================================\")\n",
        "\n",
        "# Dapatkan rekomendasi dari kedua model menggunakan fungsi sederhana\n",
        "top_recnet = get_top_n_recommendations_simple(sample_user_id, recommender_net_model, n=10, use_neumf=False)\n",
        "top_neumf = get_top_n_recommendations_simple(sample_user_id, neuMF_model, n=10, use_neumf=True)\n",
        "\n",
        "# Siapkan kedua dataframe untuk digabungkan\n",
        "# Atur 'Rank' sebagai index dan beri nama ulang kolom agar tidak tumpang tindih\n",
        "recnet_display = top_recnet.rename(\n",
        "    columns={'name': 'Rekomendasi RecommenderNet', 'predicted_rating': 'Prediksi Rating'}\n",
        ")[['Rank', 'Rekomendasi RecommenderNet', 'Prediksi Rating']].set_index('Rank')\n",
        "\n",
        "neumf_display = top_neumf.rename(\n",
        "    columns={'name': 'Rekomendasi NeuMF', 'predicted_rating': 'Prediksi Rating'}\n",
        ")[['Rank', 'Rekomendasi NeuMF', 'Prediksi Rating']].set_index('Rank')\n",
        "\n",
        "# Gabungkan kedua dataframe secara horizontal (kiri dan kanan)\n",
        "comparison_table = pd.concat([recnet_display, neumf_display], axis=1)\n",
        "\n",
        "# Tampilkan tabel perbandingan\n",
        "print(\"\\n--- Perbandingan Top-10 Rekomendasi ---\")\n",
        "display(comparison_table)"
      ]
    },
    {
      "cell_type": "code",
      "execution_count": null,
      "id": "AuvrpTzDrGDz",
      "metadata": {
        "id": "AuvrpTzDrGDz"
      },
      "outputs": [],
      "source": []
    }
  ],
  "metadata": {
    "accelerator": "GPU",
    "colab": {
      "gpuType": "T4",
      "provenance": []
    },
    "kernelspec": {
      "display_name": "Python 3",
      "name": "python3"
    },
    "language_info": {
      "codemirror_mode": {
        "name": "ipython",
        "version": 3
      },
      "file_extension": ".py",
      "mimetype": "text/x-python",
      "name": "python",
      "nbconvert_exporter": "python",
      "pygments_lexer": "ipython3",
      "version": "3.10.8"
    }
  },
  "nbformat": 4,
  "nbformat_minor": 5
}
